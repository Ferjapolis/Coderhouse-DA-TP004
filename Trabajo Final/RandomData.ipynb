{
 "cells": [
  {
   "cell_type": "code",
   "execution_count": 141,
   "metadata": {},
   "outputs": [],
   "source": [
    "import random\n",
    "import string\n",
    "import datetime\n",
    "import numpy as np\n",
    "import pandas as pd"
   ]
  },
  {
   "attachments": {},
   "cell_type": "markdown",
   "metadata": {},
   "source": [
    "### Analisis y confeccion de agregados de datos de usuarios"
   ]
  },
  {
   "cell_type": "code",
   "execution_count": 142,
   "metadata": {},
   "outputs": [],
   "source": [
    "usuarios = pd.read_csv(\"MOCK_DATA.csv\")"
   ]
  },
  {
   "cell_type": "code",
   "execution_count": 143,
   "metadata": {},
   "outputs": [],
   "source": [
    "subareas = {\n",
    "    \"Logística\":[\"Gestión de inventario\",\"Transporte y distribución\",\"Optimización de rutas\",\"Gestión de almacenes\",\"Logística inversa\"],\n",
    "    \"Producción\":[\"Control de calidad\",\"Cadena de suministro\",\"Mejora de procesos\",\"Planificación\",\"Mantenimiento\"],\n",
    "    \"Planificación\":[\"Planificación estratégica\",\"Capacidad\",\"Planificación de proyectos\"],\n",
    "    \"Calidad\":[\"Control de calidad\",\"Gestión de riesgos\",\"Mejora continua\",\"Auditoría interna\"],\n",
    "    \"Financias\":[\"Contabilidad y registros financieros\",\"Gestión de tesorería\"],\n",
    "    \"Mantenimiento\":[\"Mantenimiento correctivo\",\"Gestión de activos\"] \n",
    "}"
   ]
  },
  {
   "cell_type": "code",
   "execution_count": 144,
   "metadata": {},
   "outputs": [],
   "source": [
    "\n",
    "registroCWID = []\n",
    "def generate_unique_word(text):\n",
    "    word = ''.join(random.choices(string.ascii_uppercase, k=6))\n",
    "    while word in registroCWID:\n",
    "        word = ''.join(random.choices(string.ascii_uppercase, k=6))\n",
    "    registroCWID.append(word)\n",
    "    return word\n",
    "\n",
    "usuarios[\"CWID\"] = usuarios[\"Nombre\"].apply(generate_unique_word)\n"
   ]
  },
  {
   "cell_type": "code",
   "execution_count": 145,
   "metadata": {},
   "outputs": [],
   "source": [
    "def plantEmployee(empresa):\n",
    "    if empresa == \"Unge\" or empresa == \"Hays\":\n",
    "        return \"Local\"\n",
    "    else:\n",
    "        return \"Externo\""
   ]
  },
  {
   "cell_type": "code",
   "execution_count": 146,
   "metadata": {},
   "outputs": [],
   "source": [
    "usuarios[\"Externo\"] = usuarios[\"Empresa\"].apply(plantEmployee)"
   ]
  },
  {
   "cell_type": "code",
   "execution_count": 147,
   "metadata": {},
   "outputs": [],
   "source": [
    "empresas = usuarios.drop_duplicates(subset=\"Empresa\")[[\"Empresa\",\"Externo\"]]\n",
    "empresas[\"EID\"] = empresas[\"Empresa\"].apply(generate_unique_word)"
   ]
  },
  {
   "cell_type": "code",
   "execution_count": 148,
   "metadata": {},
   "outputs": [],
   "source": [
    "def asigSubArea (sector):\n",
    "    return random.choice(subareas[sector])"
   ]
  },
  {
   "cell_type": "code",
   "execution_count": 149,
   "metadata": {},
   "outputs": [],
   "source": [
    "usuarios[\"SubArea\"] = usuarios[\"Área\"].apply(asigSubArea)"
   ]
  },
  {
   "cell_type": "code",
   "execution_count": 150,
   "metadata": {},
   "outputs": [],
   "source": [
    "subareastabla = usuarios.drop_duplicates(subset=\"SubArea\")[[\"Área\",\"SubArea\"]]\n",
    "subareastabla[\"SAID\"] = subareastabla[\"SubArea\"].apply(generate_unique_word)\n",
    "subareastabla = subareastabla[[\"Área\",\"SubArea\",\"SAID\"]]"
   ]
  },
  {
   "cell_type": "code",
   "execution_count": 151,
   "metadata": {},
   "outputs": [
    {
     "data": {
      "text/html": [
       "<div>\n",
       "<style scoped>\n",
       "    .dataframe tbody tr th:only-of-type {\n",
       "        vertical-align: middle;\n",
       "    }\n",
       "\n",
       "    .dataframe tbody tr th {\n",
       "        vertical-align: top;\n",
       "    }\n",
       "\n",
       "    .dataframe thead th {\n",
       "        text-align: right;\n",
       "    }\n",
       "</style>\n",
       "<table border=\"1\" class=\"dataframe\">\n",
       "  <thead>\n",
       "    <tr style=\"text-align: right;\">\n",
       "      <th></th>\n",
       "      <th>Nombre</th>\n",
       "      <th>Apellido</th>\n",
       "      <th>Genero</th>\n",
       "      <th>CWID</th>\n",
       "      <th>EID</th>\n",
       "      <th>SAID</th>\n",
       "    </tr>\n",
       "  </thead>\n",
       "  <tbody>\n",
       "    <tr>\n",
       "      <th>0</th>\n",
       "      <td>Maurise</td>\n",
       "      <td>Kaindl</td>\n",
       "      <td>Male</td>\n",
       "      <td>GHZJTZ</td>\n",
       "      <td>GMVCVJ</td>\n",
       "      <td>JJBJWJ</td>\n",
       "    </tr>\n",
       "    <tr>\n",
       "      <th>1</th>\n",
       "      <td>Dall</td>\n",
       "      <td>Havick</td>\n",
       "      <td>Male</td>\n",
       "      <td>WJTRJS</td>\n",
       "      <td>MSRPRL</td>\n",
       "      <td>IOWZDU</td>\n",
       "    </tr>\n",
       "    <tr>\n",
       "      <th>2</th>\n",
       "      <td>Melisande</td>\n",
       "      <td>Bywaters</td>\n",
       "      <td>Female</td>\n",
       "      <td>XBWZWG</td>\n",
       "      <td>BLSDMV</td>\n",
       "      <td>LECZFR</td>\n",
       "    </tr>\n",
       "    <tr>\n",
       "      <th>3</th>\n",
       "      <td>Martelle</td>\n",
       "      <td>Bendall</td>\n",
       "      <td>Female</td>\n",
       "      <td>TJVMBD</td>\n",
       "      <td>GMVCVJ</td>\n",
       "      <td>LVNIHQ</td>\n",
       "    </tr>\n",
       "    <tr>\n",
       "      <th>4</th>\n",
       "      <td>Jacenta</td>\n",
       "      <td>Virr</td>\n",
       "      <td>Female</td>\n",
       "      <td>EKJNGS</td>\n",
       "      <td>BLSDMV</td>\n",
       "      <td>VKFKEN</td>\n",
       "    </tr>\n",
       "    <tr>\n",
       "      <th>...</th>\n",
       "      <td>...</td>\n",
       "      <td>...</td>\n",
       "      <td>...</td>\n",
       "      <td>...</td>\n",
       "      <td>...</td>\n",
       "      <td>...</td>\n",
       "    </tr>\n",
       "    <tr>\n",
       "      <th>205</th>\n",
       "      <td>Gasparo</td>\n",
       "      <td>Tole</td>\n",
       "      <td>Male</td>\n",
       "      <td>KELKAC</td>\n",
       "      <td>GMVCVJ</td>\n",
       "      <td>WECLGY</td>\n",
       "    </tr>\n",
       "    <tr>\n",
       "      <th>206</th>\n",
       "      <td>Vance</td>\n",
       "      <td>McGeever</td>\n",
       "      <td>Male</td>\n",
       "      <td>HVSCPV</td>\n",
       "      <td>MSRPRL</td>\n",
       "      <td>FZYGSZ</td>\n",
       "    </tr>\n",
       "    <tr>\n",
       "      <th>207</th>\n",
       "      <td>Minda</td>\n",
       "      <td>Balazot</td>\n",
       "      <td>Female</td>\n",
       "      <td>AOPCNY</td>\n",
       "      <td>SATHBL</td>\n",
       "      <td>NXZCDZ</td>\n",
       "    </tr>\n",
       "    <tr>\n",
       "      <th>208</th>\n",
       "      <td>Kerrie</td>\n",
       "      <td>Tapin</td>\n",
       "      <td>Female</td>\n",
       "      <td>OQIZSN</td>\n",
       "      <td>MSRPRL</td>\n",
       "      <td>XXXCOP</td>\n",
       "    </tr>\n",
       "    <tr>\n",
       "      <th>209</th>\n",
       "      <td>Calida</td>\n",
       "      <td>Szymanek</td>\n",
       "      <td>Female</td>\n",
       "      <td>FJQVLT</td>\n",
       "      <td>GMVCVJ</td>\n",
       "      <td>WECLGY</td>\n",
       "    </tr>\n",
       "  </tbody>\n",
       "</table>\n",
       "<p>210 rows × 6 columns</p>\n",
       "</div>"
      ],
      "text/plain": [
       "        Nombre  Apellido  Genero    CWID     EID    SAID\n",
       "0      Maurise    Kaindl    Male  GHZJTZ  GMVCVJ  JJBJWJ\n",
       "1         Dall    Havick    Male  WJTRJS  MSRPRL  IOWZDU\n",
       "2    Melisande  Bywaters  Female  XBWZWG  BLSDMV  LECZFR\n",
       "3     Martelle   Bendall  Female  TJVMBD  GMVCVJ  LVNIHQ\n",
       "4      Jacenta      Virr  Female  EKJNGS  BLSDMV  VKFKEN\n",
       "..         ...       ...     ...     ...     ...     ...\n",
       "205    Gasparo      Tole    Male  KELKAC  GMVCVJ  WECLGY\n",
       "206      Vance  McGeever    Male  HVSCPV  MSRPRL  FZYGSZ\n",
       "207      Minda   Balazot  Female  AOPCNY  SATHBL  NXZCDZ\n",
       "208     Kerrie     Tapin  Female  OQIZSN  MSRPRL  XXXCOP\n",
       "209     Calida  Szymanek  Female  FJQVLT  GMVCVJ  WECLGY\n",
       "\n",
       "[210 rows x 6 columns]"
      ]
     },
     "execution_count": 151,
     "metadata": {},
     "output_type": "execute_result"
    }
   ],
   "source": [
    "usuarios = usuarios.merge(empresas, how='left', on='Empresa')\n",
    "usuarios = usuarios.merge(subareastabla, how='left', on='SubArea')\n",
    "usuarios = usuarios[[\"Nombre\",\"Apellido\",\"Genero\",\"CWID\",\"EID\",\"SAID\"]]"
   ]
  },
  {
   "attachments": {},
   "cell_type": "markdown",
   "metadata": {},
   "source": [
    "### Creacion de funciones aleatoreas para la simulacion de registros"
   ]
  },
  {
   "cell_type": "code",
   "execution_count": 153,
   "metadata": {},
   "outputs": [],
   "source": [
    "\n",
    "# Función para generar fechas aleatorias de lunes a viernes entre 2020 y 2022\n",
    "def generate_random_weekday_date():\n",
    "    year = random.randint(2020, 2022)\n",
    "    month = random.randint(1, 12)\n",
    "    day = random.randint(1, 28)\n",
    "    hour = random.randint(8, 16)\n",
    "    minute = random.randint(0, 59)\n",
    "    second = random.randint(0, 59)\n",
    "    date = datetime.datetime(year, month, day, hour, minute, second)\n",
    "    while date.weekday() > 4:\n",
    "        year = random.randint(2020, 2022)\n",
    "        month = random.randint(1, 12)\n",
    "        day = random.randint(1, 28)\n",
    "        hour = random.randint(8, 16)\n",
    "        minute = random.randint(0, 59)\n",
    "        second = random.randint(0, 59)\n",
    "        date = datetime.datetime(year, month, day, hour, minute, second)\n",
    "    return date"
   ]
  },
  {
   "cell_type": "code",
   "execution_count": 154,
   "metadata": {},
   "outputs": [],
   "source": [
    "# Función para seleccionar al azar un elemento de una lista y asegurarse de que no sea anterior al elemento anteriormente seleccionado\n",
    "def select_random_item(lst):\n",
    "    selected_item = random.choice(lst)\n",
    "    while True:\n",
    "        new_item = random.choice(lst)\n",
    "        if new_item >= selected_item:\n",
    "            return [new_item,selected_item]"
   ]
  },
  {
   "attachments": {},
   "cell_type": "markdown",
   "metadata": {},
   "source": [
    "### Creacion de tabla registro"
   ]
  },
  {
   "cell_type": "code",
   "execution_count": 155,
   "metadata": {},
   "outputs": [],
   "source": [
    "Practicas = [\"Mejor enfocada\", \"Gestión visual\", \"trabajo en equipo\", \"5S\", \"Mindset digital\"]\n",
    "Motivos = [\"flexibilidad\", \"liderazgo\", \"integridad\", \"eficiencia\"]"
   ]
  },
  {
   "cell_type": "code",
   "execution_count": 156,
   "metadata": {},
   "outputs": [],
   "source": [
    "registros = []\n",
    "for n in range(3000):\n",
    "    users = select_random_item(list(usuarios[\"CWID\"])) \n",
    "    registros.append({\n",
    "        \"id\": n+1,\n",
    "        \"nominador\": users[0],\n",
    "        \"nominado\": users[1],\n",
    "        \"práctica\": random.choice(Practicas),\n",
    "        \"motivo\": random.choice(Motivos),\n",
    "        \"fecha\": generate_random_weekday_date()\n",
    "    })"
   ]
  },
  {
   "cell_type": "code",
   "execution_count": 157,
   "metadata": {},
   "outputs": [],
   "source": [
    "data = pd.DataFrame(registros)"
   ]
  },
  {
   "cell_type": "code",
   "execution_count": 158,
   "metadata": {},
   "outputs": [],
   "source": [
    "data.to_csv(\"Registros.csv\",index=False)\n",
    "usuarios.to_csv(\"Usuarios.csv\",index=False)\n",
    "empresas.to_csv(\"Empresas.csv\",index=False)\n",
    "subareastabla.to_csv(\"SubAreas.csv\",index=False)"
   ]
  },
  {
   "attachments": {},
   "cell_type": "markdown",
   "metadata": {},
   "source": [
    "### Analisis de contenido entre tabla y metadatos"
   ]
  },
  {
   "cell_type": "code",
   "execution_count": 159,
   "metadata": {},
   "outputs": [],
   "source": [
    "from metadataCreator import Metadata"
   ]
  },
  {
   "cell_type": "code",
   "execution_count": 160,
   "metadata": {},
   "outputs": [],
   "source": [
    "metadata = Metadata()\n",
    "metadata.ReadCSV(\"Usuarios.csv\")\n",
    "metadata.ReadCSV(\"Registros.csv\")\n",
    "metadata.ReadCSV(\"Empresas.csv\")\n",
    "metadata.ReadCSV(\"SubAreas.csv\")\n",
    "metadata.CreateMetadata(title=\"Reconocimientos\")"
   ]
  },
  {
   "cell_type": "code",
   "execution_count": 161,
   "metadata": {},
   "outputs": [],
   "source": [
    "metadata.SaveMetadata()"
   ]
  }
 ],
 "metadata": {
  "kernelspec": {
   "display_name": "Python 3",
   "language": "python",
   "name": "python3"
  },
  "language_info": {
   "codemirror_mode": {
    "name": "ipython",
    "version": 3
   },
   "file_extension": ".py",
   "mimetype": "text/x-python",
   "name": "python",
   "nbconvert_exporter": "python",
   "pygments_lexer": "ipython3",
   "version": "3.10.6"
  },
  "orig_nbformat": 4
 },
 "nbformat": 4,
 "nbformat_minor": 2
}
